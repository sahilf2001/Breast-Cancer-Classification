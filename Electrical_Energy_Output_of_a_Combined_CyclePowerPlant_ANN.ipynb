{
  "nbformat": 4,
  "nbformat_minor": 0,
  "metadata": {
    "colab": {
      "name": "Electrical_Energy_Output_of_a_Combined_CyclePowerPlant-ANN.ipynb",
      "provenance": [],
      "authorship_tag": "ABX9TyMUXO5akoHAaj7hDDDN+Zd3",
      "include_colab_link": true
    },
    "kernelspec": {
      "name": "python3",
      "display_name": "Python 3"
    },
    "language_info": {
      "name": "python"
    }
  },
  "cells": [
    {
      "cell_type": "markdown",
      "metadata": {
        "id": "view-in-github",
        "colab_type": "text"
      },
      "source": [
        "<a href=\"https://colab.research.google.com/github/sahilf2001/ML-DL-Projects/blob/main/Electrical_Energy_Output_of_a_Combined_CyclePowerPlant_ANN.ipynb\" target=\"_parent\"><img src=\"https://colab.research.google.com/assets/colab-badge.svg\" alt=\"Open In Colab\"/></a>"
      ]
    },
    {
      "cell_type": "markdown",
      "metadata": {
        "id": "w8k5cfbP_0wU"
      },
      "source": [
        "Importing Libraries\n"
      ]
    },
    {
      "cell_type": "code",
      "metadata": {
        "id": "OYKbsa8U_bhk"
      },
      "source": [
        "import pandas as pd\n",
        "import numpy as np\n",
        "import tensorflow as tf\n",
        "from sklearn.model_selection import train_test_split"
      ],
      "execution_count": 10,
      "outputs": []
    },
    {
      "cell_type": "code",
      "metadata": {
        "colab": {
          "base_uri": "https://localhost:8080/",
          "height": 35
        },
        "id": "K_oyG50XGPuN",
        "outputId": "5d58d05c-21b3-4ead-cead-0c81f7fdaa65"
      },
      "source": [
        "tf.__version__"
      ],
      "execution_count": 2,
      "outputs": [
        {
          "output_type": "execute_result",
          "data": {
            "application/vnd.google.colaboratory.intrinsic+json": {
              "type": "string"
            },
            "text/plain": [
              "'2.5.0'"
            ]
          },
          "metadata": {
            "tags": []
          },
          "execution_count": 2
        }
      ]
    },
    {
      "cell_type": "markdown",
      "metadata": {
        "id": "BZNGTMLCEgEq"
      },
      "source": [
        "Importing the Dataset"
      ]
    },
    {
      "cell_type": "code",
      "metadata": {
        "colab": {
          "base_uri": "https://localhost:8080/",
          "height": 203
        },
        "id": "ih5sq0t2_mSR",
        "outputId": "68c0e493-e3cc-4c6a-c920-543e739c4670"
      },
      "source": [
        "df = pd.read_excel('Folds5x2_pp.xlsx')\n",
        "df.head()"
      ],
      "execution_count": 3,
      "outputs": [
        {
          "output_type": "execute_result",
          "data": {
            "text/html": [
              "<div>\n",
              "<style scoped>\n",
              "    .dataframe tbody tr th:only-of-type {\n",
              "        vertical-align: middle;\n",
              "    }\n",
              "\n",
              "    .dataframe tbody tr th {\n",
              "        vertical-align: top;\n",
              "    }\n",
              "\n",
              "    .dataframe thead th {\n",
              "        text-align: right;\n",
              "    }\n",
              "</style>\n",
              "<table border=\"1\" class=\"dataframe\">\n",
              "  <thead>\n",
              "    <tr style=\"text-align: right;\">\n",
              "      <th></th>\n",
              "      <th>AT</th>\n",
              "      <th>V</th>\n",
              "      <th>AP</th>\n",
              "      <th>RH</th>\n",
              "      <th>PE</th>\n",
              "    </tr>\n",
              "  </thead>\n",
              "  <tbody>\n",
              "    <tr>\n",
              "      <th>0</th>\n",
              "      <td>14.96</td>\n",
              "      <td>41.76</td>\n",
              "      <td>1024.07</td>\n",
              "      <td>73.17</td>\n",
              "      <td>463.26</td>\n",
              "    </tr>\n",
              "    <tr>\n",
              "      <th>1</th>\n",
              "      <td>25.18</td>\n",
              "      <td>62.96</td>\n",
              "      <td>1020.04</td>\n",
              "      <td>59.08</td>\n",
              "      <td>444.37</td>\n",
              "    </tr>\n",
              "    <tr>\n",
              "      <th>2</th>\n",
              "      <td>5.11</td>\n",
              "      <td>39.40</td>\n",
              "      <td>1012.16</td>\n",
              "      <td>92.14</td>\n",
              "      <td>488.56</td>\n",
              "    </tr>\n",
              "    <tr>\n",
              "      <th>3</th>\n",
              "      <td>20.86</td>\n",
              "      <td>57.32</td>\n",
              "      <td>1010.24</td>\n",
              "      <td>76.64</td>\n",
              "      <td>446.48</td>\n",
              "    </tr>\n",
              "    <tr>\n",
              "      <th>4</th>\n",
              "      <td>10.82</td>\n",
              "      <td>37.50</td>\n",
              "      <td>1009.23</td>\n",
              "      <td>96.62</td>\n",
              "      <td>473.90</td>\n",
              "    </tr>\n",
              "  </tbody>\n",
              "</table>\n",
              "</div>"
            ],
            "text/plain": [
              "      AT      V       AP     RH      PE\n",
              "0  14.96  41.76  1024.07  73.17  463.26\n",
              "1  25.18  62.96  1020.04  59.08  444.37\n",
              "2   5.11  39.40  1012.16  92.14  488.56\n",
              "3  20.86  57.32  1010.24  76.64  446.48\n",
              "4  10.82  37.50  1009.23  96.62  473.90"
            ]
          },
          "metadata": {
            "tags": []
          },
          "execution_count": 3
        }
      ]
    },
    {
      "cell_type": "code",
      "metadata": {
        "colab": {
          "base_uri": "https://localhost:8080/"
        },
        "id": "cz8CcrPjHGah",
        "outputId": "49788f68-3675-4535-a43e-217350f239ad"
      },
      "source": [
        "X = df.iloc[:,:-1].values\n",
        "y = df.iloc[:,-1].values\n",
        "print(\"Dependent Variables Vector:\\n\",X)\n",
        "print(\"Independent Variable Vector:\\n\",y)"
      ],
      "execution_count": 9,
      "outputs": [
        {
          "output_type": "stream",
          "text": [
            "Dependent Variables Vector:\n",
            " [[  14.96   41.76 1024.07   73.17]\n",
            " [  25.18   62.96 1020.04   59.08]\n",
            " [   5.11   39.4  1012.16   92.14]\n",
            " ...\n",
            " [  31.32   74.33 1012.92   36.48]\n",
            " [  24.48   69.45 1013.86   62.39]\n",
            " [  21.6    62.52 1017.23   67.87]]\n",
            "Independent Variable Vector:\n",
            " [463.26 444.37 488.56 ... 429.57 435.74 453.28]\n"
          ],
          "name": "stdout"
        }
      ]
    },
    {
      "cell_type": "markdown",
      "metadata": {
        "id": "8Fo4F7OFEjOh"
      },
      "source": [
        "Splitting the dataset into Training and Test Sets"
      ]
    },
    {
      "cell_type": "code",
      "metadata": {
        "id": "01dBtavH_mZ3"
      },
      "source": [
        "X_train, X_test, y_train, y_test = train_test_split(X,y,test_size = 0.2,random_state = 0)"
      ],
      "execution_count": 11,
      "outputs": []
    },
    {
      "cell_type": "markdown",
      "metadata": {
        "id": "4xQabDeeEr4x"
      },
      "source": [
        "Initializing the ANN"
      ]
    },
    {
      "cell_type": "code",
      "metadata": {
        "id": "sL0FwG-A_mgJ"
      },
      "source": [
        "ann = tf.keras.models.Sequential()"
      ],
      "execution_count": 13,
      "outputs": []
    },
    {
      "cell_type": "markdown",
      "metadata": {
        "id": "s6z6DsUkE2LJ"
      },
      "source": [
        "Adding input layer and first hidden layer"
      ]
    },
    {
      "cell_type": "code",
      "metadata": {
        "id": "1EnFQK6i_md4"
      },
      "source": [
        "ann.add(tf.keras.layers.Dense(units=6, activation=\"relu\")) # using relu to remove the linear relation between input and hidden layers"
      ],
      "execution_count": 16,
      "outputs": []
    },
    {
      "cell_type": "markdown",
      "metadata": {
        "id": "0yPIxPAWFCOe"
      },
      "source": [
        "Adding second hidden layer\n"
      ]
    },
    {
      "cell_type": "code",
      "metadata": {
        "id": "H8VF_ciz_miX"
      },
      "source": [
        "ann.add(tf.keras.layers.Dense(units=6,activation=\"relu\"))"
      ],
      "execution_count": 17,
      "outputs": []
    },
    {
      "cell_type": "markdown",
      "metadata": {
        "id": "0PBFGucWFGdH"
      },
      "source": [
        "Adding output layer"
      ]
    },
    {
      "cell_type": "code",
      "metadata": {
        "id": "Qta5tcma_mk-"
      },
      "source": [
        "ann.add(tf.keras.layers.Dense(units=1)) # sigmoid used for binary classification\n",
        "# soft max for multiclass classification"
      ],
      "execution_count": 18,
      "outputs": []
    },
    {
      "cell_type": "markdown",
      "metadata": {
        "id": "b3QR4Uz4FLxG"
      },
      "source": [
        "Compiling the ANN"
      ]
    },
    {
      "cell_type": "code",
      "metadata": {
        "id": "IjX5qGV3_mnP"
      },
      "source": [
        "# optimiser is the tool to perform stochastic gradient descent - through backpropagation\n",
        "ann.compile(optimizer = 'adam',loss='mean_squared_error') #mse is for regression"
      ],
      "execution_count": 19,
      "outputs": []
    },
    {
      "cell_type": "markdown",
      "metadata": {
        "id": "VZPODy22FaFM"
      },
      "source": [
        "Training the ANN on Training Set"
      ]
    },
    {
      "cell_type": "code",
      "metadata": {
        "colab": {
          "base_uri": "https://localhost:8080/"
        },
        "id": "pjVbw4X1_mrY",
        "outputId": "128cf591-f0f0-4f14-8040-43f5f776d7ab"
      },
      "source": [
        "ann.fit(X_train,y_train,batch_size = 32,epochs=100) # classic batch size is 32"
      ],
      "execution_count": 23,
      "outputs": [
        {
          "output_type": "stream",
          "text": [
            "Epoch 1/100\n",
            "240/240 [==============================] - 0s 1ms/step - loss: 27.2227\n",
            "Epoch 2/100\n",
            "240/240 [==============================] - 0s 1ms/step - loss: 27.9832\n",
            "Epoch 3/100\n",
            "240/240 [==============================] - 0s 1ms/step - loss: 27.6943\n",
            "Epoch 4/100\n",
            "240/240 [==============================] - 0s 1ms/step - loss: 27.8809\n",
            "Epoch 5/100\n",
            "240/240 [==============================] - 0s 1ms/step - loss: 26.5206\n",
            "Epoch 6/100\n",
            "240/240 [==============================] - 0s 1ms/step - loss: 26.7391\n",
            "Epoch 7/100\n",
            "240/240 [==============================] - 0s 1ms/step - loss: 26.9815\n",
            "Epoch 8/100\n",
            "240/240 [==============================] - 0s 1ms/step - loss: 27.3181\n",
            "Epoch 9/100\n",
            "240/240 [==============================] - 0s 1ms/step - loss: 27.5898\n",
            "Epoch 10/100\n",
            "240/240 [==============================] - 0s 1ms/step - loss: 27.1441\n",
            "Epoch 11/100\n",
            "240/240 [==============================] - 0s 1ms/step - loss: 26.8766\n",
            "Epoch 12/100\n",
            "240/240 [==============================] - 0s 1ms/step - loss: 27.1032\n",
            "Epoch 13/100\n",
            "240/240 [==============================] - 0s 1ms/step - loss: 26.5259\n",
            "Epoch 14/100\n",
            "240/240 [==============================] - 0s 1ms/step - loss: 27.3360\n",
            "Epoch 15/100\n",
            "240/240 [==============================] - 0s 1ms/step - loss: 26.9387\n",
            "Epoch 16/100\n",
            "240/240 [==============================] - 0s 1ms/step - loss: 26.7723\n",
            "Epoch 17/100\n",
            "240/240 [==============================] - 0s 1ms/step - loss: 27.4033\n",
            "Epoch 18/100\n",
            "240/240 [==============================] - 0s 1ms/step - loss: 27.6945\n",
            "Epoch 19/100\n",
            "240/240 [==============================] - 0s 1ms/step - loss: 26.4621\n",
            "Epoch 20/100\n",
            "240/240 [==============================] - 0s 1ms/step - loss: 27.0259\n",
            "Epoch 21/100\n",
            "240/240 [==============================] - 0s 1ms/step - loss: 26.9013\n",
            "Epoch 22/100\n",
            "240/240 [==============================] - 0s 1ms/step - loss: 27.8578\n",
            "Epoch 23/100\n",
            "240/240 [==============================] - 0s 1ms/step - loss: 27.3797\n",
            "Epoch 24/100\n",
            "240/240 [==============================] - 0s 1ms/step - loss: 26.5195\n",
            "Epoch 25/100\n",
            "240/240 [==============================] - 0s 1ms/step - loss: 27.4913\n",
            "Epoch 26/100\n",
            "240/240 [==============================] - 0s 1ms/step - loss: 26.6831\n",
            "Epoch 27/100\n",
            "240/240 [==============================] - 0s 1ms/step - loss: 26.9124\n",
            "Epoch 28/100\n",
            "240/240 [==============================] - 0s 1ms/step - loss: 28.2861\n",
            "Epoch 29/100\n",
            "240/240 [==============================] - 0s 1ms/step - loss: 26.8970\n",
            "Epoch 30/100\n",
            "240/240 [==============================] - 0s 1ms/step - loss: 26.8837\n",
            "Epoch 31/100\n",
            "240/240 [==============================] - 0s 1ms/step - loss: 27.2331\n",
            "Epoch 32/100\n",
            "240/240 [==============================] - 0s 1ms/step - loss: 27.4268\n",
            "Epoch 33/100\n",
            "240/240 [==============================] - 0s 1ms/step - loss: 27.1512\n",
            "Epoch 34/100\n",
            "240/240 [==============================] - 0s 1ms/step - loss: 26.8907\n",
            "Epoch 35/100\n",
            "240/240 [==============================] - 0s 1ms/step - loss: 26.7947\n",
            "Epoch 36/100\n",
            "240/240 [==============================] - 0s 1ms/step - loss: 27.1069\n",
            "Epoch 37/100\n",
            "240/240 [==============================] - 0s 1ms/step - loss: 26.4619\n",
            "Epoch 38/100\n",
            "240/240 [==============================] - 0s 1ms/step - loss: 27.0420\n",
            "Epoch 39/100\n",
            "240/240 [==============================] - 0s 1ms/step - loss: 28.6960\n",
            "Epoch 40/100\n",
            "240/240 [==============================] - 0s 1ms/step - loss: 27.0709\n",
            "Epoch 41/100\n",
            "240/240 [==============================] - 0s 1ms/step - loss: 26.3991\n",
            "Epoch 42/100\n",
            "240/240 [==============================] - 0s 1ms/step - loss: 27.0294\n",
            "Epoch 43/100\n",
            "240/240 [==============================] - 0s 1ms/step - loss: 27.0229\n",
            "Epoch 44/100\n",
            "240/240 [==============================] - 0s 1ms/step - loss: 27.2092\n",
            "Epoch 45/100\n",
            "240/240 [==============================] - 0s 1ms/step - loss: 27.3591\n",
            "Epoch 46/100\n",
            "240/240 [==============================] - 0s 1ms/step - loss: 27.4661\n",
            "Epoch 47/100\n",
            "240/240 [==============================] - 0s 1ms/step - loss: 27.1726\n",
            "Epoch 48/100\n",
            "240/240 [==============================] - 0s 1ms/step - loss: 27.0909\n",
            "Epoch 49/100\n",
            "240/240 [==============================] - 0s 1ms/step - loss: 27.1239\n",
            "Epoch 50/100\n",
            "240/240 [==============================] - 0s 1ms/step - loss: 26.9790\n",
            "Epoch 51/100\n",
            "240/240 [==============================] - 0s 1ms/step - loss: 27.4377\n",
            "Epoch 52/100\n",
            "240/240 [==============================] - 0s 1ms/step - loss: 28.3330\n",
            "Epoch 53/100\n",
            "240/240 [==============================] - 0s 1ms/step - loss: 27.0466\n",
            "Epoch 54/100\n",
            "240/240 [==============================] - 0s 1ms/step - loss: 27.6889\n",
            "Epoch 55/100\n",
            "240/240 [==============================] - 0s 1ms/step - loss: 26.8496\n",
            "Epoch 56/100\n",
            "240/240 [==============================] - 0s 1ms/step - loss: 26.8069\n",
            "Epoch 57/100\n",
            "240/240 [==============================] - 0s 1ms/step - loss: 27.3237\n",
            "Epoch 58/100\n",
            "240/240 [==============================] - 0s 1ms/step - loss: 27.2216\n",
            "Epoch 59/100\n",
            "240/240 [==============================] - 0s 1ms/step - loss: 27.0206\n",
            "Epoch 60/100\n",
            "240/240 [==============================] - 0s 1ms/step - loss: 27.4202\n",
            "Epoch 61/100\n",
            "240/240 [==============================] - 0s 1ms/step - loss: 27.3742\n",
            "Epoch 62/100\n",
            "240/240 [==============================] - 0s 1ms/step - loss: 26.8411\n",
            "Epoch 63/100\n",
            "240/240 [==============================] - 0s 1ms/step - loss: 26.8284\n",
            "Epoch 64/100\n",
            "240/240 [==============================] - 0s 1ms/step - loss: 27.1988\n",
            "Epoch 65/100\n",
            "240/240 [==============================] - 0s 1ms/step - loss: 26.9206\n",
            "Epoch 66/100\n",
            "240/240 [==============================] - 0s 1ms/step - loss: 27.2899\n",
            "Epoch 67/100\n",
            "240/240 [==============================] - 0s 1ms/step - loss: 27.7286\n",
            "Epoch 68/100\n",
            "240/240 [==============================] - 0s 1ms/step - loss: 27.1735\n",
            "Epoch 69/100\n",
            "240/240 [==============================] - 0s 1ms/step - loss: 27.7036\n",
            "Epoch 70/100\n",
            "240/240 [==============================] - 0s 1ms/step - loss: 27.1364\n",
            "Epoch 71/100\n",
            "240/240 [==============================] - 0s 1ms/step - loss: 26.6371\n",
            "Epoch 72/100\n",
            "240/240 [==============================] - 0s 1ms/step - loss: 27.3185\n",
            "Epoch 73/100\n",
            "240/240 [==============================] - 0s 1ms/step - loss: 27.8879\n",
            "Epoch 74/100\n",
            "240/240 [==============================] - 0s 1ms/step - loss: 27.6712\n",
            "Epoch 75/100\n",
            "240/240 [==============================] - 0s 1ms/step - loss: 27.6154\n",
            "Epoch 76/100\n",
            "240/240 [==============================] - 0s 1ms/step - loss: 27.4827\n",
            "Epoch 77/100\n",
            "240/240 [==============================] - 0s 1ms/step - loss: 27.0788\n",
            "Epoch 78/100\n",
            "240/240 [==============================] - 0s 1ms/step - loss: 26.7673\n",
            "Epoch 79/100\n",
            "240/240 [==============================] - 0s 1ms/step - loss: 26.8261\n",
            "Epoch 80/100\n",
            "240/240 [==============================] - 0s 1ms/step - loss: 27.1022\n",
            "Epoch 81/100\n",
            "240/240 [==============================] - 0s 1ms/step - loss: 27.1160\n",
            "Epoch 82/100\n",
            "240/240 [==============================] - 0s 1ms/step - loss: 27.1412\n",
            "Epoch 83/100\n",
            "240/240 [==============================] - 0s 1ms/step - loss: 26.6550\n",
            "Epoch 84/100\n",
            "240/240 [==============================] - 0s 1ms/step - loss: 27.0174\n",
            "Epoch 85/100\n",
            "240/240 [==============================] - 0s 1ms/step - loss: 27.4603\n",
            "Epoch 86/100\n",
            "240/240 [==============================] - 0s 1ms/step - loss: 26.8706\n",
            "Epoch 87/100\n",
            "240/240 [==============================] - 0s 1ms/step - loss: 26.7742\n",
            "Epoch 88/100\n",
            "240/240 [==============================] - 0s 1ms/step - loss: 27.2748\n",
            "Epoch 89/100\n",
            "240/240 [==============================] - 0s 1ms/step - loss: 27.3219\n",
            "Epoch 90/100\n",
            "240/240 [==============================] - 0s 1ms/step - loss: 27.3470\n",
            "Epoch 91/100\n",
            "240/240 [==============================] - 0s 1ms/step - loss: 27.3290\n",
            "Epoch 92/100\n",
            "240/240 [==============================] - 0s 1ms/step - loss: 27.0509\n",
            "Epoch 93/100\n",
            "240/240 [==============================] - 0s 1ms/step - loss: 26.6230\n",
            "Epoch 94/100\n",
            "240/240 [==============================] - 0s 1ms/step - loss: 26.9054\n",
            "Epoch 95/100\n",
            "240/240 [==============================] - 0s 1ms/step - loss: 27.1495\n",
            "Epoch 96/100\n",
            "240/240 [==============================] - 0s 1ms/step - loss: 26.6006\n",
            "Epoch 97/100\n",
            "240/240 [==============================] - 0s 1ms/step - loss: 26.9545\n",
            "Epoch 98/100\n",
            "240/240 [==============================] - 0s 1ms/step - loss: 26.4760\n",
            "Epoch 99/100\n",
            "240/240 [==============================] - 0s 1ms/step - loss: 27.0465\n",
            "Epoch 100/100\n",
            "240/240 [==============================] - 0s 1ms/step - loss: 27.1736\n"
          ],
          "name": "stdout"
        },
        {
          "output_type": "execute_result",
          "data": {
            "text/plain": [
              "<tensorflow.python.keras.callbacks.History at 0x7fa3231cdad0>"
            ]
          },
          "metadata": {
            "tags": []
          },
          "execution_count": 23
        }
      ]
    },
    {
      "cell_type": "markdown",
      "metadata": {
        "id": "2sMEt5T2Fejb"
      },
      "source": [
        "Predicting the result of Test Data"
      ]
    },
    {
      "cell_type": "code",
      "metadata": {
        "id": "V1-pepzk_mtw"
      },
      "source": [
        "y_pred = ann.predict(X_test)"
      ],
      "execution_count": 24,
      "outputs": []
    },
    {
      "cell_type": "code",
      "metadata": {
        "colab": {
          "base_uri": "https://localhost:8080/"
        },
        "id": "OocTH8qI_mwH",
        "outputId": "2806adaf-9e9a-42b1-8d2d-7c65c7de225e"
      },
      "source": [
        "np.set_printoptions(precision=2)\n",
        "y_pred.reshape(len(y_pred),1), y_test.reshape(len(y_test),1)\n",
        "z = np.concatenate((y_pred.reshape(len(y_pred),1), y_test.reshape(len(y_test),1)),axis=1)\n",
        "print(z)"
      ],
      "execution_count": 25,
      "outputs": [
        {
          "output_type": "stream",
          "text": [
            "[[430.68 431.23]\n",
            " [461.07 460.01]\n",
            " [464.53 461.14]\n",
            " ...\n",
            " [471.94 473.26]\n",
            " [438.74 438.  ]\n",
            " [458.09 463.28]]\n"
          ],
          "name": "stdout"
        }
      ]
    },
    {
      "cell_type": "code",
      "metadata": {
        "colab": {
          "base_uri": "https://localhost:8080/"
        },
        "id": "m7p0_UGr_myQ",
        "outputId": "cf3e03f9-3967-42ce-d44b-9e97982ff823"
      },
      "source": [
        "test_loss = ann.evaluate(X_test, y_test)\n",
        "print(test_loss)"
      ],
      "execution_count": 26,
      "outputs": [
        {
          "output_type": "stream",
          "text": [
            "60/60 [==============================] - 0s 1ms/step - loss: 25.0479\n",
            "25.047876358032227\n"
          ],
          "name": "stdout"
        }
      ]
    },
    {
      "cell_type": "code",
      "metadata": {
        "id": "6M9dzRsc_m0i"
      },
      "source": [
        ""
      ],
      "execution_count": null,
      "outputs": []
    },
    {
      "cell_type": "code",
      "metadata": {
        "id": "9mMAo8Jz_m26"
      },
      "source": [
        ""
      ],
      "execution_count": null,
      "outputs": []
    }
  ]
}